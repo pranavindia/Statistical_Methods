{
 "cells": [
  {
   "cell_type": "code",
   "execution_count": 1,
   "id": "231008af-7b9e-47c2-9ef6-01105d66f20e",
   "metadata": {},
   "outputs": [
    {
     "name": "stdout",
     "output_type": "stream",
     "text": [
      " Satisfies additivity on the disjoint sets \n"
     ]
    }
   ],
   "source": [
    "SET_A={\"a\", \"b\", \"c\"} # Set 1 given in question\n",
    "SET_B={\"d\", \"e\", \"f\"}  # Set 2 given in question\n",
    "# Creating a Function to check counting measure of disjoint sets\n",
    "def counting_measure(input): \n",
    "     if not isinstance(input,set):\n",
    "         raise TypeError(\"Input type is incorrect.Give Set as input type\")\n",
    "     return len(input) \n",
    "count_SET_A= counting_measure(SET_A)\n",
    "count_SET_B= counting_measure(SET_B)\n",
    "Result=count_SET_A + count_SET_B\n",
    "union_AB=SET_A.union(SET_B)\n",
    "count_AB=counting_measure(union_AB)\n",
    "if (Result==count_AB):\n",
    "    print(\" Satisfies additivity on the disjoint sets \")\n",
    "else:     \n",
    "    print(\"Not Satisfies additivity on the disjoint sets\")\n",
    "\n"
   ]
  },
  {
   "cell_type": "code",
   "execution_count": 2,
   "id": "8fcd1fce-e74c-430e-8ff7-95daf5ca6a12",
   "metadata": {},
   "outputs": [
    {
     "name": "stdout",
     "output_type": "stream",
     "text": [
      " Result : Length of the interval  1 & 3.5 = 2.5\n"
     ]
    }
   ],
   "source": [
    "# Creating  a  Interval class which ensures two things.First Interval must be numeric and second start must be less than end.\n",
    "class Interval:                               \n",
    "    def __init__(self, startpoint, endpoint):\n",
    "        if not isinstance(startpoint, (int, float)) and not isinstance(endpoint, (int, float)):\n",
    "              raise ValueError(\" Please give starting point and ending point a numerical value\")\n",
    "        if startpoint > endpoint:\n",
    "               raise ValueError(\"Invalid interval: Starting point must be less than the ending point\")\n",
    "        self.startpoint = startpoint\n",
    "        self.endpoint = endpoint\n",
    "\n",
    "    def length(self):\n",
    "        return self.endpoint - self.startpoint\n",
    "        \n",
    "# Creating  a  Interval length function which impletments the length measure on provided interval.\n",
    "def interval_length(interval):\n",
    "    if not isinstance(interval, Interval):\n",
    "        raise ValueError(\"Input is not a valid Interval object\")\n",
    "    return interval.length()\n",
    "\n",
    "# Testing the interval and length calculation function\n",
    "try:\n",
    "    interval = Interval(1,3.5)\n",
    "    length = interval_length(interval)\n",
    "    print(f\" Result : Length of the interval  {interval.startpoint} & {interval.endpoint} = {length}\")\n",
    "except ValueError as e:\n",
    "    print(f\"Error: {e}\")\n"
   ]
  },
  {
   "cell_type": "code",
   "execution_count": 3,
   "id": "09fae324-e376-47c6-8ba1-436f16d15eef",
   "metadata": {},
   "outputs": [
    {
     "name": "stdout",
     "output_type": "stream",
     "text": [
      "Probability measure of interval 1: 0.8647\n",
      "Probability measure of interval 2: 0.0000\n",
      "Probability measure of interval 3: 0.1353\n",
      "Probability measure of interval 4: 1.0000\n"
     ]
    },
    {
     "data": {
      "image/png": "[encoded data removed]",
      "text/plain": [
       "<Figure size 640x480 with 1 Axes>"
      ]
     },
     "metadata": {},
     "output_type": "display_data"
    }
   ],
   "source": [
    "import scipy.stats as stats\n",
    "import numpy as np\n",
    "import matplotlib.pyplot as plt\n",
    "\n",
    "# Inheriting the Interval class from the above code\n",
    "class Interval(Interval):\n",
    "    def expon_measure(self):\n",
    "        # As given in question we have to make  the Exponential(2) distribution\n",
    "        parameter = 2\n",
    "        exponential_dist = stats.expon(scale=1/parameter)\n",
    "\n",
    "        # Calculating the cumulative distribution function (CDF) values for the interval\n",
    "        cdf_start = exponential_dist.cdf(self.startpoint)\n",
    "        cdf_end = exponential_dist.cdf(self.endpoint)\n",
    "\n",
    "        # Calculate the probability mass under the Exponential(2) measure\n",
    "        probability_mass = cdf_end - cdf_start\n",
    "\n",
    "        return probability_mass\n",
    "\n",
    "# Define the intervals\n",
    "intervals = [\n",
    "    Interval(0, 1),\n",
    "    Interval(1, 1),\n",
    "    Interval(1, 10),\n",
    "    Interval(0, float(\"inf\"))\n",
    "]\n",
    "\n",
    "# Calculate the probability measures for the intervals\n",
    "for i, interval in enumerate(intervals):\n",
    "    probability_mass = interval.expon_measure()\n",
    "    print(f\"Probability measure of interval {i + 1}: {probability_mass:.4f}\")\n",
    "\n",
    "# Plot the PDF of Exp(2)\n",
    "x = np.linspace(0, 10, 1000)\n",
    "pdf = stats.expon.pdf(x, scale=1/2)\n",
    "plt.plot(x, pdf)\n",
    "plt.title(\"PDF of Exp(2)\")\n",
    "plt.xlabel(\"x\")\n",
    "plt.ylabel(\"Probability Density\")\n",
    "plt.fill_between(x,pdf,color='red',alpha=0.5)\n",
    "plt.show()\n"
   ]
  },
  {
   "cell_type": "markdown",
   "id": "a3d375a8-fa16-491d-9577-7fe1d50bacfc",
   "metadata": {},
   "source": [
    "The graph which we have plotted above represents PDF of the Exponential distribution with a lambda (λ) value of 2. The probability density starts with higher values on the left side and gradually decreases as we progress along the x-axis to the right. This observation suggests that as the value of x increases, the probability density consistently declines.As we move from left of x axis to right of x axis of PDF plot CDF(Area under curve)increases."
   ]
  },
  {
   "cell_type": "code",
   "execution_count": 4,
   "id": "340de9aa-076a-425a-b66d-473eb8a86e27",
   "metadata": {},
   "outputs": [
    {
     "name": "stdout",
     "output_type": "stream",
     "text": [
      "Integral (a): 0.8646647167633872\n",
      "Integral (b): 0.0\n",
      "Integral (c): 0.13533528117545912\n",
      "Integral (d): 1.0\n"
     ]
    }
   ],
   "source": [
    "from scipy.stats import expon\n",
    "from scipy.integrate import quad\n",
    "\n",
    "\n",
    "# Define the Exponential(2) distribution\n",
    "exponential_distribution = expon(scale=1/2)\n",
    "\n",
    "# Define the expon_pdf function\n",
    "def expon_pdf(x):\n",
    "    return exponential_distribution.pdf(x)\n",
    "\n",
    "# Compute and print the integrals\n",
    "integral_result1, _ = quad(expon_pdf, 0, 1)\n",
    "integral_result2, _ = quad(expon_pdf, 1, 1)\n",
    "integral_result3, _ = quad(expon_pdf, 1, 10)\n",
    "integral_result4, _ = quad(expon_pdf, 0, float(\"inf\"))\n",
    "\n",
    "print(f\"Integral (a): {integral_result1:}\")\n",
    "print(f\"Integral (b): {integral_result2:}\")\n",
    "print(f\"Integral (c): {integral_result3:}\")\n",
    "print(f\"Integral (d): {integral_result4:}\")"
   ]
  },
  {
   "cell_type": "markdown",
   "id": "adf4d9f1-7f99-4662-b6ff-5e9b6787a2b6",
   "metadata": {},
   "source": [
    "In both approaches we are calculating probablity for specific interval in exponential distribution with lamda equals to 2.\n",
    "\n",
    "Approach 1:Current Question\n",
    "           a>Using the \"expon_pdf\" function based on PDF.\n",
    "           b>Calculating probablities via integration method on pdf function for given interval.\n",
    "        \n",
    "Approach 2 :Third Question\n",
    "            a>Using the expon_measure function based on CDF.\n",
    "            b>Measuring the cumulative probability from the start to end points of an interval.\n",
    "            c>Calculating probability measures for the given intervals.\n",
    "          \n",
    "Result of intervals as per both approaches\n",
    "\n",
    "(a): Probability of values between 0 and 1.\n",
    "Previous Question (expon_measure): Approx  0.8647 (As Per Output)\n",
    "Current Question (expon_pdf): Approx  0.8647      (As Per Output)\n",
    "\n",
    "(b) Probability of values between 1 and 1.\n",
    "Previous Question (expon_measure):Approx  0 (As Per Output)\n",
    "Current Question (expon_pdf):Approx  0 (As Per Output)\n",
    "\n",
    "(c): Probability of values between 1 and 10.\n",
    "Previous Question (expon_measure):Approx  0.1353 (As Per Output)\n",
    "Current Question (expon_pdf):Approx  0.1353 (As Per Output)\n",
    "\n",
    "(d): Probability of values from 0 to infinity.\n",
    "Previous Question (expon_measure): Approx 1 (As Per Output)\n",
    "Current Question (expon_pdf): Approx 1 (As Per Output)\n",
    "\n",
    "As per comparison from above pointers we can infer that both methods are mathematically equivalent .This consistency is expected because both methods are used to calculate probabilities in the context of the Exponential(2) distribution.\n",
    "\n",
    "The answers from the current and previous questions match each other. This is because in both questions we are solving the same probability problem using two different approaches. Both routes led us to the same result."
   ]
  },
  {
   "cell_type": "code",
   "execution_count": null,
   "id": "0f51ae56-b9c8-4e4e-adbc-513c9e95aacf",
   "metadata": {},
   "outputs": [],
   "source": []
  }
 ],
 "metadata": {
  "kernelspec": {
   "display_name": "Python 3 (ipykernel)",
   "language": "python",
   "name": "python3"
  },
  "language_info": {
   "codemirror_mode": {
    "name": "ipython",
    "version": 3
   },
   "file_extension": ".py",
   "mimetype": "text/x-python",
   "name": "python",
   "nbconvert_exporter": "python",
   "pygments_lexer": "ipython3",
   "version": "3.10.9"
  }
 },
 "nbformat": 4,
 "nbformat_minor": 5
}
